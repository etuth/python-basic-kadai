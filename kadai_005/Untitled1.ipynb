{
  "nbformat": 4,
  "nbformat_minor": 0,
  "metadata": {
    "colab": {
      "provenance": []
    },
    "kernelspec": {
      "name": "python3",
      "display_name": "Python 3"
    },
    "language_info": {
      "name": "python"
    }
  },
  "cells": [
    {
      "cell_type": "code",
      "execution_count": 1,
      "metadata": {
        "colab": {
          "base_uri": "https://localhost:8080/"
        },
        "id": "OzQqeUXfroIK",
        "outputId": "4f00c0c6-9337-4c0a-97a5-92faa8684320"
      },
      "outputs": [
        {
          "output_type": "stream",
          "name": "stdout",
          "text": [
            "75.0cm²\n"
          ]
        }
      ],
      "source": [
        "top_line = 10\n",
        "under_line = 20\n",
        "hight = 5\n",
        "\n",
        "area = (top_line + under_line) * hight / 2  # 台形の面積を計算し、変数に代入\n",
        "\n",
        "print(str(area) + \"cm²\")  # 計算結果を出力"
      ]
    }
  ]
}