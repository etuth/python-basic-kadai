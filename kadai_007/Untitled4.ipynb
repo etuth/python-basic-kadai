{
  "nbformat": 4,
  "nbformat_minor": 0,
  "metadata": {
    "colab": {
      "provenance": []
    },
    "kernelspec": {
      "name": "python3",
      "display_name": "Python 3"
    },
    "language_info": {
      "name": "python"
    }
  },
  "cells": [
    {
      "cell_type": "code",
      "execution_count": 7,
      "metadata": {
        "colab": {
          "base_uri": "https://localhost:8080/"
        },
        "id": "t3KpYJQJJ16l",
        "outputId": "324c87a8-0c6d-4851-db16-cdfcfd98a4e1"
      },
      "outputs": [
        {
          "output_type": "stream",
          "name": "stdout",
          "text": [
            "水曜日は晴れです\n"
          ]
        }
      ],
      "source": [
        "dictionary = {\"mon\": \"晴れ\", \"tue\": \"雨\", \"wed\": \"晴れ\", \"thu\": \"晴れ\", \"fri\": \"曇り\", \"sat\": \"曇りのち雨\", \"sun\": \"雷雨\"}\n",
        "array = [f'月曜日は{dictionary[\"mon\"]}です', f'火曜日は{dictionary[\"tue\"]}です', f'水曜日は{dictionary[\"wed\"]}です', f'木曜日は{dictionary[\"thu\"]}です', f'金曜日は{dictionary[\"fri\"]}です', f'土曜日は{dictionary[\"sat\"]}です', f'日曜日は{dictionary[\"sun\"]}です']\n",
        "\n",
        "print(array[2])"
      ]
    },
    {
      "cell_type": "markdown",
      "source": [],
      "metadata": {
        "id": "2JGsrO7PLedH"
      }
    }
  ]
}