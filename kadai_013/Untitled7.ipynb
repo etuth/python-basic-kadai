{
  "nbformat": 4,
  "nbformat_minor": 0,
  "metadata": {
    "colab": {
      "provenance": []
    },
    "kernelspec": {
      "name": "python3",
      "display_name": "Python 3"
    },
    "language_info": {
      "name": "python"
    }
  },
  "cells": [
    {
      "cell_type": "code",
      "execution_count": 2,
      "metadata": {
        "colab": {
          "base_uri": "https://localhost:8080/"
        },
        "id": "3Bpp3FA_fLV1",
        "outputId": "f22d9305-91c0-44c3-b112-78cbb9dbbc3f"
      },
      "outputs": [
        {
          "output_type": "stream",
          "name": "stdout",
          "text": [
            "121.0\n"
          ]
        }
      ],
      "source": [
        "def total_price(price, tax):\n",
        "    total = price + price * tax\n",
        "    return total\n",
        "\n",
        "# 関数の戻り値を変数に保存\n",
        "total = total_price(110, 0.1)\n",
        "# 関数の外で結果を出力\n",
        "print(total)"
      ]
    }
  ]
}