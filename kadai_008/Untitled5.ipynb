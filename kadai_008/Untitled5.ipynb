{
  "nbformat": 4,
  "nbformat_minor": 0,
  "metadata": {
    "colab": {
      "provenance": []
    },
    "kernelspec": {
      "name": "python3",
      "display_name": "Python 3"
    },
    "language_info": {
      "name": "python"
    }
  },
  "cells": [
    {
      "cell_type": "code",
      "execution_count": 21,
      "metadata": {
        "colab": {
          "base_uri": "https://localhost:8080/"
        },
        "id": "8VOndFjEQWAk",
        "outputId": "be174445-0ae1-4254-c873-b48cde4e95f8"
      },
      "outputs": [
        {
          "output_type": "stream",
          "name": "stdout",
          "text": [
            "変数varの値: 78\n",
            "Fizz\n"
          ]
        }
      ],
      "source": [
        "import random\n",
        "\n",
        "# 1から100までのランダムな整数を生成\n",
        "var = random.randint(1, 100)\n",
        "\n",
        "# 変数の値を出力\n",
        "print(\"変数varの値:\", var)\n",
        "\n",
        "# 条件分岐による出力\n",
        "if var % 15 == 0:  # 3と5の両方の倍数の場合\n",
        "    print(\"FizzBuzz\")\n",
        "elif var % 3 == 0:  # 3の倍数の場合\n",
        "    print(\"Fizz\")\n",
        "elif var % 5 == 0:  # 5の倍数の場合\n",
        "    print(\"Buzz\")\n",
        "else:  # どの条件にも当てはまらない場合\n",
        "    print(var)"
      ]
    }
  ]
}