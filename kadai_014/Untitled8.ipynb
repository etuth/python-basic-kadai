{
  "cells": [
    {
      "cell_type": "code",
      "execution_count": null,
      "metadata": {
        "colab": {
          "base_uri": "https://localhost:8080/"
        },
        "id": "2c0yJ1YuVFwx",
        "outputId": "b759ec3c-373e-41c4-cdae-3916641f19a6"
      },
      "outputs": [
        {
          "data": {
            "text/plain": [
              "330.0"
            ]
          },
          "execution_count": 3,
          "metadata": {},
          "output_type": "execute_result"
        }
      ],
      "source": [
        "price1 = 100\n",
        "price2 = 200\n",
        "\n",
        "tax = 1.1\n",
        "\n",
        "def total():\n",
        "    # 計算して結果を返します\n",
        "    return (price1 + price2)\n",
        "\n",
        "# total() 関数を呼び出して結果を表示します\n",
        "print(total()*tax)"
      ]
    }
  ],
  "metadata": {
    "colab": {
      "provenance": []
    },
    "kernelspec": {
      "display_name": "Python 3",
      "name": "python3"
    },
    "language_info": {
      "name": "python"
    }
  },
  "nbformat": 4,
  "nbformat_minor": 0
}
